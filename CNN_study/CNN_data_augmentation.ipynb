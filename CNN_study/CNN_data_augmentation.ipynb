{
 "cells": [
  {
   "cell_type": "markdown",
   "id": "c79a3c12",
   "metadata": {},
   "source": [
    "### Data Augmentation CNN ###"
   ]
  },
  {
   "cell_type": "code",
   "execution_count": 1,
   "id": "2c03d5ed",
   "metadata": {},
   "outputs": [],
   "source": [
    "from keras.preprocessing.image import ImageDataGenerator, array_to_img, img_to_array, load_img"
   ]
  },
  {
   "cell_type": "code",
   "execution_count": 2,
   "id": "66aa2ea5",
   "metadata": {},
   "outputs": [],
   "source": [
    "datagen=ImageDataGenerator(rotation_range=40,\n",
    "                          width_shift_range=0.2,\n",
    "                          height_shift_range=0.2,\n",
    "                           shear_range=0.2,\n",
    "                           zoom_range=0.2,\n",
    "                           horizontal_flip=True,\n",
    "                           fill_mode='nearest')\n",
    "\n",
    "img=load_img('C:/Users/User/Desktop/TensorFlow/ANN/CNN_study/cat_image.jpg')   # THIS IS A PIL IMAGE\n",
    "x=img_to_array(img)         # THIS IS A NUMPY ARRAY WITH SHAPE ( 3, 150, 150 )\n",
    "x=x.reshape((1,)+x.shape)   # THIS IS A NUMPY ARRAY WITH SHAPE (1,3,150,150)"
   ]
  },
  {
   "cell_type": "code",
   "execution_count": 3,
   "id": "013ac81c",
   "metadata": {
    "scrolled": true
   },
   "outputs": [
    {
     "data": {
      "text/plain": [
       "array([[[[135., 131., 119.],\n",
       "         [135., 131., 119.],\n",
       "         [135., 131., 119.],\n",
       "         ...,\n",
       "         [111., 108.,  93.],\n",
       "         [110., 107.,  92.],\n",
       "         [110., 107.,  92.]],\n",
       "\n",
       "        [[135., 131., 119.],\n",
       "         [136., 132., 120.],\n",
       "         [136., 132., 120.],\n",
       "         ...,\n",
       "         [111., 108.,  93.],\n",
       "         [111., 108.,  93.],\n",
       "         [110., 107.,  92.]],\n",
       "\n",
       "        [[136., 132., 120.],\n",
       "         [136., 132., 120.],\n",
       "         [137., 133., 121.],\n",
       "         ...,\n",
       "         [112., 109.,  94.],\n",
       "         [111., 108.,  93.],\n",
       "         [110., 107.,  92.]],\n",
       "\n",
       "        ...,\n",
       "\n",
       "        [[206., 191., 162.],\n",
       "         [206., 191., 162.],\n",
       "         [206., 191., 162.],\n",
       "         ...,\n",
       "         [206., 187., 157.],\n",
       "         [204., 185., 155.],\n",
       "         [202., 183., 153.]],\n",
       "\n",
       "        [[207., 192., 163.],\n",
       "         [207., 192., 163.],\n",
       "         [207., 192., 163.],\n",
       "         ...,\n",
       "         [206., 187., 157.],\n",
       "         [204., 185., 155.],\n",
       "         [202., 183., 153.]],\n",
       "\n",
       "        [[208., 193., 164.],\n",
       "         [208., 193., 164.],\n",
       "         [208., 193., 164.],\n",
       "         ...,\n",
       "         [205., 186., 156.],\n",
       "         [203., 184., 154.],\n",
       "         [201., 182., 152.]]]], dtype=float32)"
      ]
     },
     "execution_count": 3,
     "metadata": {},
     "output_type": "execute_result"
    }
   ],
   "source": [
    "x"
   ]
  },
  {
   "cell_type": "code",
   "execution_count": 4,
   "id": "04d3058b",
   "metadata": {},
   "outputs": [],
   "source": [
    "i=0\n",
    "for batch in datagen.flow(x,batch_size=1, save_to_dir='CNN_data_argmentation_preview',save_prefix='cat',save_format='jpeg'):\n",
    "    i+=1\n",
    "    if i>20:\n",
    "        break"
   ]
  },
  {
   "cell_type": "code",
   "execution_count": null,
   "id": "fc069e5b",
   "metadata": {},
   "outputs": [],
   "source": []
  },
  {
   "cell_type": "code",
   "execution_count": null,
   "id": "923eb25a",
   "metadata": {},
   "outputs": [],
   "source": []
  },
  {
   "cell_type": "code",
   "execution_count": null,
   "id": "562ba27c",
   "metadata": {},
   "outputs": [],
   "source": []
  },
  {
   "cell_type": "code",
   "execution_count": null,
   "id": "703d4409",
   "metadata": {},
   "outputs": [],
   "source": []
  }
 ],
 "metadata": {
  "kernelspec": {
   "display_name": "Python 3",
   "language": "python",
   "name": "python3"
  },
  "language_info": {
   "codemirror_mode": {
    "name": "ipython",
    "version": 3
   },
   "file_extension": ".py",
   "mimetype": "text/x-python",
   "name": "python",
   "nbconvert_exporter": "python",
   "pygments_lexer": "ipython3",
   "version": "3.8.10"
  }
 },
 "nbformat": 4,
 "nbformat_minor": 5
}
